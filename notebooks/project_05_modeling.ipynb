{
 "cells": [
  {
   "cell_type": "markdown",
   "metadata": {},
   "source": [
    "<div align=\"center\">\n",
    "    \n",
    "# 5.0 Modeling"
   ]
  },
  {
   "cell_type": "markdown",
   "metadata": {},
   "source": [
    "## 5.1 Table of Contents<a id='5.1_Table_of_Contents'></a>\n",
    "* [5.1 Table of Contents](#5.1_Table_of_Contents)\n",
    "* [5.2 Introduction](#5.2_Introduction)\n",
    "* [5.3 Library Imports](#5.3_Library_Imports)\n",
    "* [5.4 Data Loading](#5.4_Data_Loading)\n",
    "* [5.5 Baseline Model](#5.5_Baseline_Model)\n",
    "* [5.6 Model Comparison](#5.6_Model_Comparison)\n",
    "  * [5.6.1 Linear Regression](#5.6.1_Linear_Regression)\n",
    "  * [5.6.2 Regularized Models (Ridge, Lasso, ElasticNet)](#5.6.2_Regularized_Models)\n",
    "  * [5.6.3 Tree-Based Models (RF, GBM)](#5.6.3_Tree_Based_Models)\n",
    "* [5.7 Model Selection & Tuning](#5.7_Model_Selection_Tuning)\n",
    "* [5.8 Final Model Training](#5.8_Final_Model_Training)\n",
    "* [5.9 Save Artifacts](#5.9_Save_Artifacts)\n",
    "* [5.10 Summary](#5.10_Summary)"
   ]
  },
  {
   "cell_type": "markdown",
   "metadata": {},
   "source": [
    "## 5.2 Introduction<a id='5.2_Introduction'></a>"
   ]
  },
  {
   "cell_type": "markdown",
   "metadata": {},
   "source": [
    "This notebook builds predictive models for ski resort weekend ticket prices using the processed and feature-engineered dataset.\n",
    "We’ll start by training baseline and advanced models, evaluate them using R², RMSE, and MAE, and select the model that offers the best trade-off between performance and generalization.\n",
    "\n",
    "At the end:\n",
    "\n",
    "The final model and evaluation metrics will be saved for reuse in the next notebook (sys_06_model_evaluation.ipynb).\n",
    "\n",
    "The trained model will be applied to estimate Big Mountain Resort’s optimal price."
   ]
  },
  {
   "cell_type": "markdown",
   "metadata": {},
   "source": [
    "## 5.3 Library Imports<a id='5.3_Library_Imports'></a>"
   ]
  },
  {
   "cell_type": "code",
   "execution_count": 1,
   "metadata": {},
   "outputs": [],
   "source": [
    "import numpy as np\n",
    "import pandas as pd\n",
    "import os\n",
    "from pathlib import Path\n",
    "from joblib import load, dump\n",
    "\n",
    "# Models\n",
    "from sklearn.linear_model import LinearRegression, Ridge, Lasso, ElasticNet\n",
    "from sklearn.ensemble import RandomForestRegressor, GradientBoostingRegressor\n",
    "\n",
    "# Metrics\n",
    "from sklearn.metrics import mean_absolute_error, mean_squared_error, r2_score\n",
    "\n",
    "# Visualization\n",
    "import matplotlib.pyplot as plt\n",
    "\n",
    "import warnings\n",
    "warnings.filterwarnings(\"ignore\")"
   ]
  },
  {
   "cell_type": "markdown",
   "metadata": {},
   "source": [
    "## 5.4 Data Loading<a id='5.4_Data_Loading'></a>"
   ]
  },
  {
   "cell_type": "code",
   "execution_count": 2,
   "metadata": {},
   "outputs": [
    {
     "name": "stdout",
     "output_type": "stream",
     "text": [
      "Data Loaded\n",
      "Train: (216, 92) | Val: (55, 92)\n",
      "y_train mean: 64.32\n"
     ]
    }
   ],
   "source": [
    "# load artifacts, training set, validation set and target resort\n",
    "\n",
    "art = Path(\"../artifacts\")\n",
    "\n",
    "X_train = np.load(art / \"X_train_tf.npy\")\n",
    "X_val   = np.load(art / \"X_val_tf.npy\")\n",
    "y_train = pd.read_csv(art / \"y_train.csv\").squeeze()\n",
    "y_val   = pd.read_csv(art / \"y_val.csv\").squeeze()\n",
    "\n",
    "feature_names = pd.read_csv(art / \"feature_names.csv\").squeeze().tolist()\n",
    "\n",
    "print(\"Data Loaded\")\n",
    "print(\"Train:\", X_train.shape, \"| Val:\", X_val.shape)\n",
    "print(\"y_train mean:\", round(y_train.mean(), 2))"
   ]
  },
  {
   "cell_type": "markdown",
   "metadata": {},
   "source": [
    "## 5.5 Baseline Model<a id='5.5_Baseline_Model'></a>"
   ]
  },
  {
   "cell_type": "code",
   "execution_count": 3,
   "metadata": {},
   "outputs": [
    {
     "name": "stdout",
     "output_type": "stream",
     "text": [
      "Baseline MAE: 17.24\n",
      "Baseline RMSE: 23.42\n",
      "Baseline R²: -0.003\n"
     ]
    }
   ],
   "source": [
    "# Simple mean baseline for reference\n",
    "y_pred_baseline = np.repeat(y_train.mean(), len(y_val))\n",
    "\n",
    "baseline_mae = mean_absolute_error(y_val, y_pred_baseline)\n",
    "baseline_rmse = np.sqrt(mean_squared_error(y_val, y_pred_baseline))\n",
    "baseline_r2 = r2_score(y_val, y_pred_baseline)\n",
    "\n",
    "print(f\"Baseline MAE: {baseline_mae:.2f}\")\n",
    "print(f\"Baseline RMSE: {baseline_rmse:.2f}\")\n",
    "print(f\"Baseline R²: {baseline_r2:.3f}\")"
   ]
  },
  {
   "cell_type": "markdown",
   "metadata": {},
   "source": [
    "## 5.6 Model Comparison<a id='5.6_Model_Comparison'></a>"
   ]
  },
  {
   "cell_type": "markdown",
   "metadata": {},
   "source": [
    "### 5.6.1 Linear_Regression<a id='5.6.1_Linear_Regression'></a>"
   ]
  },
  {
   "cell_type": "code",
   "execution_count": 4,
   "metadata": {},
   "outputs": [
    {
     "name": "stdout",
     "output_type": "stream",
     "text": [
      "Linear Regression         | MAE: 7.84 | RMSE: 10.92 | R²: 0.782\n"
     ]
    }
   ],
   "source": [
    "lr = LinearRegression()\n",
    "lr.fit(X_train, y_train)\n",
    "y_pred_lr = lr.predict(X_val)\n",
    "\n",
    "def eval_model(name, y_true, y_pred):\n",
    "    mae = mean_absolute_error(y_true, y_pred)\n",
    "    rmse = np.sqrt(mean_squared_error(y_true, y_pred))  # <- manual RMSE\n",
    "    r2 = r2_score(y_true, y_pred)\n",
    "    print(f\"{name:<25} | MAE: {mae:.2f} | RMSE: {rmse:.2f} | R²: {r2:.3f}\")\n",
    "    return pd.Series({\"Model\": name, \"MAE\": mae, \"RMSE\": rmse, \"R2\": r2})\n",
    "\n",
    "results = []\n",
    "results.append(eval_model(\"Linear Regression\", y_val, y_pred_lr))"
   ]
  },
  {
   "cell_type": "markdown",
   "metadata": {},
   "source": [
    "### 5.6.2 Regularized_Models<a id='5.6.2_Regularized_Models'></a>"
   ]
  },
  {
   "cell_type": "code",
   "execution_count": 5,
   "metadata": {},
   "outputs": [
    {
     "name": "stdout",
     "output_type": "stream",
     "text": [
      "Ridge                     | MAE: 7.63 | RMSE: 10.61 | R²: 0.794\n",
      "Lasso                     | MAE: 7.86 | RMSE: 10.87 | R²: 0.784\n",
      "ElasticNet                | MAE: 7.61 | RMSE: 10.62 | R²: 0.794\n"
     ]
    }
   ],
   "source": [
    "for model_name, model in [\n",
    "    (\"Ridge\", Ridge(alpha=1.0, random_state=17)),\n",
    "    (\"Lasso\", Lasso(alpha=0.01, random_state=17)),\n",
    "    (\"ElasticNet\", ElasticNet(alpha=0.01, l1_ratio=0.5, random_state=17))\n",
    "]:\n",
    "    model.fit(X_train, y_train)\n",
    "    preds = model.predict(X_val)\n",
    "    results.append(eval_model(model_name, y_val, preds))"
   ]
  },
  {
   "cell_type": "markdown",
   "metadata": {},
   "source": [
    "### 5.6.3 Tree Based Models<a id='5.6.3_Tree_Based_Models'></a>"
   ]
  },
  {
   "cell_type": "code",
   "execution_count": 6,
   "metadata": {},
   "outputs": [
    {
     "name": "stdout",
     "output_type": "stream",
     "text": [
      "Random Forest             | MAE: 9.43 | RMSE: 13.15 | R²: 0.684\n",
      "Gradient Boosting         | MAE: 8.27 | RMSE: 11.53 | R²: 0.757\n"
     ]
    }
   ],
   "source": [
    "for model_name, model in [\n",
    "    (\"Random Forest\", RandomForestRegressor(n_estimators=200, random_state=17)),\n",
    "    (\"Gradient Boosting\", GradientBoostingRegressor(random_state=17))\n",
    "]:\n",
    "    model.fit(X_train, y_train)\n",
    "    preds = model.predict(X_val)\n",
    "    results.append(eval_model(model_name, y_val, preds))"
   ]
  },
  {
   "cell_type": "markdown",
   "metadata": {},
   "source": [
    "## 5.7 Model Selection & Tuning<a id='5.7_Model_Selection_Tuning'></a>"
   ]
  },
  {
   "cell_type": "code",
   "execution_count": 7,
   "metadata": {},
   "outputs": [
    {
     "data": {
      "text/html": [
       "<div>\n",
       "<style scoped>\n",
       "    .dataframe tbody tr th:only-of-type {\n",
       "        vertical-align: middle;\n",
       "    }\n",
       "\n",
       "    .dataframe tbody tr th {\n",
       "        vertical-align: top;\n",
       "    }\n",
       "\n",
       "    .dataframe thead th {\n",
       "        text-align: right;\n",
       "    }\n",
       "</style>\n",
       "<table border=\"1\" class=\"dataframe\">\n",
       "  <thead>\n",
       "    <tr style=\"text-align: right;\">\n",
       "      <th></th>\n",
       "      <th>Model</th>\n",
       "      <th>MAE</th>\n",
       "      <th>RMSE</th>\n",
       "      <th>R2</th>\n",
       "    </tr>\n",
       "  </thead>\n",
       "  <tbody>\n",
       "    <tr>\n",
       "      <th>1</th>\n",
       "      <td>Ridge</td>\n",
       "      <td>7.632985</td>\n",
       "      <td>10.611958</td>\n",
       "      <td>0.794110</td>\n",
       "    </tr>\n",
       "    <tr>\n",
       "      <th>3</th>\n",
       "      <td>ElasticNet</td>\n",
       "      <td>7.611508</td>\n",
       "      <td>10.617701</td>\n",
       "      <td>0.793887</td>\n",
       "    </tr>\n",
       "    <tr>\n",
       "      <th>2</th>\n",
       "      <td>Lasso</td>\n",
       "      <td>7.856101</td>\n",
       "      <td>10.865089</td>\n",
       "      <td>0.784171</td>\n",
       "    </tr>\n",
       "    <tr>\n",
       "      <th>0</th>\n",
       "      <td>Linear Regression</td>\n",
       "      <td>7.842236</td>\n",
       "      <td>10.917093</td>\n",
       "      <td>0.782100</td>\n",
       "    </tr>\n",
       "    <tr>\n",
       "      <th>5</th>\n",
       "      <td>Gradient Boosting</td>\n",
       "      <td>8.267835</td>\n",
       "      <td>11.533584</td>\n",
       "      <td>0.756795</td>\n",
       "    </tr>\n",
       "    <tr>\n",
       "      <th>4</th>\n",
       "      <td>Random Forest</td>\n",
       "      <td>9.427841</td>\n",
       "      <td>13.148313</td>\n",
       "      <td>0.683930</td>\n",
       "    </tr>\n",
       "  </tbody>\n",
       "</table>\n",
       "</div>"
      ],
      "text/plain": [
       "               Model       MAE       RMSE        R2\n",
       "1              Ridge  7.632985  10.611958  0.794110\n",
       "3         ElasticNet  7.611508  10.617701  0.793887\n",
       "2              Lasso  7.856101  10.865089  0.784171\n",
       "0  Linear Regression  7.842236  10.917093  0.782100\n",
       "5  Gradient Boosting  8.267835  11.533584  0.756795\n",
       "4      Random Forest  9.427841  13.148313  0.683930"
      ]
     },
     "metadata": {},
     "output_type": "display_data"
    },
    {
     "name": "stdout",
     "output_type": "stream",
     "text": [
      "Best model based on R²: Ridge\n"
     ]
    }
   ],
   "source": [
    "results_df = pd.DataFrame(results)\n",
    "results_df.sort_values(\"R2\", ascending=False, inplace=True)\n",
    "display(results_df)\n",
    "\n",
    "best_model_name = results_df.iloc[0][\"Model\"]\n",
    "print(f\"Best model based on R²: {best_model_name}\")"
   ]
  },
  {
   "cell_type": "markdown",
   "metadata": {},
   "source": [
    "## 5.8 Final Model Training<a id='5.8_Final_Model_Training'></a>"
   ]
  },
  {
   "cell_type": "code",
   "execution_count": 8,
   "metadata": {},
   "outputs": [
    {
     "name": "stdout",
     "output_type": "stream",
     "text": [
      "Final Model (GBM)         | MAE: 8.27 | RMSE: 11.53 | R²: 0.757\n"
     ]
    },
    {
     "data": {
      "text/plain": [
       "Model    Final Model (GBM)\n",
       "MAE               8.267835\n",
       "RMSE             11.533584\n",
       "R2                0.756795\n",
       "dtype: object"
      ]
     },
     "execution_count": 8,
     "metadata": {},
     "output_type": "execute_result"
    }
   ],
   "source": [
    "best_model = GradientBoostingRegressor(random_state=17)\n",
    "best_model.fit(X_train, y_train)\n",
    "\n",
    "y_pred_final = best_model.predict(X_val)\n",
    "eval_model(\"Final Model (GBM)\", y_val, y_pred_final)"
   ]
  },
  {
   "cell_type": "markdown",
   "metadata": {},
   "source": [
    "## 5.9 Summary<a id='5.9_Summary'></a>"
   ]
  },
  {
   "cell_type": "code",
   "execution_count": 9,
   "metadata": {},
   "outputs": [
    {
     "name": "stdout",
     "output_type": "stream",
     "text": [
      "✅ Final model saved to: ../artifacts/final_model.joblib\n"
     ]
    }
   ],
   "source": [
    "#SaveArtifacts\n",
    "\n",
    "dump(best_model, art / \"final_model.joblib\")\n",
    "print(\"✅ Final model saved to:\", art / \"final_model.joblib\")"
   ]
  }
 ],
 "metadata": {
  "kernelspec": {
   "display_name": "Python (ski_pricing_strategy)",
   "language": "python",
   "name": "ski_pricing_strategy"
  },
  "language_info": {
   "codemirror_mode": {
    "name": "ipython",
    "version": 3
   },
   "file_extension": ".py",
   "mimetype": "text/x-python",
   "name": "python",
   "nbconvert_exporter": "python",
   "pygments_lexer": "ipython3",
   "version": "3.12.3"
  },
  "toc": {
   "base_numbering": 1,
   "nav_menu": {},
   "number_sections": true,
   "sideBar": true,
   "skip_h1_title": false,
   "title_cell": "Table of Contents",
   "title_sidebar": "Contents",
   "toc_cell": false,
   "toc_position": {},
   "toc_section_display": true,
   "toc_window_display": true
  },
  "varInspector": {
   "cols": {
    "lenName": 16,
    "lenType": 16,
    "lenVar": 40
   },
   "kernels_config": {
    "python": {
     "delete_cmd_postfix": "",
     "delete_cmd_prefix": "del ",
     "library": "var_list.py",
     "varRefreshCmd": "print(var_dic_list())"
    },
    "r": {
     "delete_cmd_postfix": ") ",
     "delete_cmd_prefix": "rm(",
     "library": "var_list.r",
     "varRefreshCmd": "cat(var_dic_list()) "
    }
   },
   "types_to_exclude": [
    "module",
    "function",
    "builtin_function_or_method",
    "instance",
    "_Feature"
   ],
   "window_display": false
  }
 },
 "nbformat": 4,
 "nbformat_minor": 4
}
