{
 "cells":[
  {"cell_type":"markdown","metadata":{},"source":[
    "# SYS 02 — Data Wrangling & Integration\n",
    "## 🎯 Objective\n",
    "- Merge/reshape/enrich datasets; compute derived metrics.\n",
    "---\n",
    "## 1️⃣ Load Clean Data\n"
  ]},
  {"cell_type":"code","metadata":{},"execution_count":null,"outputs":[],"source":[
    "from pathlib import Path\n","import pandas as pd\n",
    "PROCESSED = Path('data/processed')\n","# df = pd.read_csv(PROCESSED / 'clean_dataset.csv')\n","# df.shape"
  ]},
  {"cell_type":"markdown","metadata":{},"source":["## 2️⃣ Merge / Join Additional Sources"]},
  {"cell_type":"code","metadata":{},"execution_count":null,"outputs":[],"source":[
    "# other = pd.read_csv(PROCESSED / 'other.csv')\n","# df = df.merge(other, on='key', how='left')"
  ]},
  {"cell_type":"markdown","metadata":{},"source":["## 3️⃣ Transformations (groupby / pivot / melt)"]},
  {"cell_type":"code","metadata":{},"execution_count":null,"outputs":[],"source":[
    "# df_group = df.groupby('state', as_index=False)['price'].mean()"
  ]},
  {"cell_type":"markdown","metadata":{},"source":["## 4️⃣ New Derived Columns"]},
  {"cell_type":"code","metadata":{},"execution_count":null,"outputs":[],"source":[
    "# df['runs_per_chair'] = df['Runs'] / df['total_chairs']"
  ]},
  {"cell_type":"markdown","metadata":{},"source":["## 5️⃣ Save Wrangled Data"]},
  {"cell_type":"code","metadata":{},"execution_count":null,"outputs":[],"source":[
    "# df.to_csv(PROCESSED / 'wrangled_dataset.csv', index=False)\n","# print('Saved → data/processed/wrangled_dataset.csv')"
  ]}
 ],
 "metadata":{"language_info":{"name":"python"}},
 "nbformat":4,"nbformat_minor":5
}
