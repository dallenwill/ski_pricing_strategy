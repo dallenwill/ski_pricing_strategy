{
 "cells":[
  {"cell_type":"markdown","metadata":{},"source":[
    "# SYS 06 — Model Evaluation\n",
    "## 🎯 Objective\n",
    "- Evaluate on holdout; visualize performance.\n",
    "---\n",
    "## 1️⃣ Predict & Metrics\n"
  ]},
  {"cell_type":"code","metadata":{},"execution_count":null,"outputs":[],"source":[
    "from sklearn.metrics import mean_absolute_error, r2_score\n",
    "# y_pred = rf.predict(X_test)\n","# print('MAE:', mean_absolute_error(y_test, y_pred))\n","# print('R² :', r2_score(y_test, y_pred))"
  ]},
  {"cell_type":"markdown","metadata":{},"source":[
    "## 2️⃣ Visualizations\n","- Actual vs Predicted\n","- Residual plot\n","- Feature importance\n"
  ]},
  {"cell_type":"code","metadata":{},"execution_count":null,"outputs":[],"source":[
    "# import matplotlib.pyplot as plt\n","# plt.scatter(y_test, y_pred); plt.xlabel('Actual'); plt.ylabel('Predicted'); plt.show()"
  ]},
  {"cell_type":"markdown","metadata":{},"source":[
    "## ✅ Summary\n","| Metric | Value |\n","|--------|-------|\n","| MAE |  |\n","| R²  |  |\n","| Notes |  |\n"
  ]}
 ],
 "metadata":{"language_info":{"name":"python"}},
 "nbformat":4,"nbformat_minor":5
}
