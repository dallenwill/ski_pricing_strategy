{
 "cells": [
  {
   "cell_type": "markdown",
   "id": "629a5316",
   "metadata": {},
   "source": [
    "<div align=\"center\">\n",
    "    \n",
    "# 1.0 Problem Definition"
   ]
  },
  {
   "cell_type": "code",
   "execution_count": 2,
   "id": "0d4fbb9d",
   "metadata": {},
   "outputs": [
    {
     "data": {
      "text/markdown": [
       "# Project Title\n",
       "\n",
       "---\n",
       "\n",
       "## Overview\n",
       "Briefly describe what the project does and why it matters.\n",
       "\n",
       "Example:  \n",
       "This project analyzes ski resort ticket prices to find key factors that affect pricing and builds a model to predict fair prices for new resorts.\n",
       "\n",
       "---\n",
       "\n",
       "## Objective\n",
       "What are you trying to achieve?\n",
       "\n",
       "Example:\n",
       "- Understand what drives pricing differences.\n",
       "- Build a predictive model for ski ticket prices.\n",
       "- Provide insights for pricing strategy.\n",
       "\n",
       "---\n",
       "\n",
       "## Data\n",
       "What data do you use and where it comes from?\n",
       "\n",
       "Example:\n",
       "- Dataset: ski_resort_data.csv  \n",
       "- Source: public dataset or company internal data  \n",
       "- Features: state, snowfall, altitude, lifts, price, etc.\n",
       "\n",
       "---\n",
       "\n",
       "## Tools & Libraries\n",
       "List key tools or languages you used.\n",
       "\n",
       "Example:\n",
       "- Python, Pandas, NumPy  \n",
       "- Scikit-learn, Matplotlib  \n",
       "- Jupyter Notebook\n",
       "\n",
       "---\n",
       "\n",
       "## Project Workflow\n",
       "1. Problem Definition  \n",
       "2. Data Wrangling \n",
       "3. Exploratory Data Analysis (EDA) \n",
       "4. Feature Engineering\n",
       "5. Modeling \n",
       "6. Reporting\n",
       "\n",
       "---\n",
       "\n",
       "## Results\n",
       "Summarize main findings or performance.\n",
       "\n",
       "Example:\n",
       "- Top 3 features affecting price: altitude, snowfall, amenities  \n",
       "- Model achieved R² = 0.87  \n",
       "- Prices in Colorado are ~40% higher than average\n",
       "\n",
       "---\n",
       "\n",
       "## Files\n",
       "- `project_01_problem_definition.ipynb` \n",
       "- `project_02_data_wrangling.ipynb` \n",
       "- `project_03_exploratory_data_analysis.ipynb`\n",
       "- `project_04_feature_engineering.ipynb`\n",
       "- `project_05_modeling.ipynb`\n",
       "\n",
       "---\n",
       "\n",
       "## Author\n",
       "Dallen Huang  \n",
       "Data Scientist  \n",
       "Los Angeles, CA  \n",
       "[GitHub: dallenwill](https://github.com/dallenwill)\n"
      ],
      "text/plain": [
       "<IPython.core.display.Markdown object>"
      ]
     },
     "metadata": {},
     "output_type": "display_data"
    }
   ],
   "source": [
    "from pathlib import Path\n",
    "\n",
    "# Read and display README.md\n",
    "readme_path = Path(\"../README.md\") if not Path(\"README.md\").exists() else Path(\"README.md\")\n",
    "\n",
    "with open(readme_path, \"r\", encoding=\"utf-8\") as f:\n",
    "    content = f.read()\n",
    "\n",
    "from IPython.display import Markdown, display\n",
    "display(Markdown(content))"
   ]
  }
 ],
 "metadata": {
  "kernelspec": {
   "display_name": "Python (dsenv)",
   "language": "python",
   "name": "dsenv"
  },
  "language_info": {
   "codemirror_mode": {
    "name": "ipython",
    "version": 3
   },
   "file_extension": ".py",
   "mimetype": "text/x-python",
   "name": "python",
   "nbconvert_exporter": "python",
   "pygments_lexer": "ipython3",
   "version": "3.12.3"
  }
 },
 "nbformat": 4,
 "nbformat_minor": 5
}
