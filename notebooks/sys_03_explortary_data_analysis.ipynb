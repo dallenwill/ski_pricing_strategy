{
 "cells":[
  {"cell_type":"markdown","metadata":{},"source":[
    "# SYS 03 — Explortary Data Analysis (EDA)\n",
    "## 🎯 Objective\n",
    "- Understand distributions, relationships, and potential drivers.\n",
    "---\n",
    "## 1️⃣ Load Data\n"
  ]},
  {"cell_type":"code","metadata":{},"execution_count":null,"outputs":[],"source":[
    "import pandas as pd\n","import seaborn as sns\n","import matplotlib.pyplot as plt\n",
    "# df = pd.read_csv('data/processed/wrangled_dataset.csv')\n","# df.shape"
  ]},
  {"cell_type":"markdown","metadata":{},"source":["## 2️⃣ Summary Stats"]},
  {"cell_type":"code","metadata":{},"execution_count":null,"outputs":[],"source":[
    "# df.describe(include='all').T"
  ]},
  {"cell_type":"markdown","metadata":{},"source":["## 3️⃣ Univariate Analysis"]},
  {"cell_type":"code","metadata":{},"execution_count":null,"outputs":[],"source":[
    "# numeric_col = 'price'\n","# sns.histplot(df[numeric_col], kde=True); plt.show()"
  ]},
  {"cell_type":"markdown","metadata":{},"source":["## 4️⃣ Bivariate / Multivariate"]},
  {"cell_type":"code","metadata":{},"execution_count":null,"outputs":[],"source":[
    "# sns.heatmap(df.corr(numeric_only=True), cmap='coolwarm'); plt.show()"
  ]},
  {"cell_type":"markdown","metadata":{},"source":[
    "## ✅ Insights\n","- Top drivers:\n","- Outliers:\n","- Data gaps:\n"
  ]}
 ],
 "metadata":{"language_info":{"name":"python"}},
 "nbformat":4,"nbformat_minor":5
}
