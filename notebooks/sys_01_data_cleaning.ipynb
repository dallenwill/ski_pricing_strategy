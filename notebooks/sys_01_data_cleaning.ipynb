{
 "cells":[
  {"cell_type":"markdown","metadata":{},"source":[
    "# SYS 01 — Data Cleaning & Preparation\n",
    "## 🎯 Objective\n",
    "- Sanity checks, handle missing/types, save clean version.\n",
    "---\n",
    "## 1️⃣ Setup & Imports\n"
  ]},
  {"cell_type":"code","metadata":{},"execution_count":null,"outputs":[],"source":[
    "from pathlib import Path\n","import pandas as pd\n","import numpy as np\n",
    "RAW = Path('data/raw')\n","PROCESSED = Path('data/processed')\n"
  ]},
  {"cell_type":"markdown","metadata":{},"source":["## 2️⃣ Load Raw Data"]},
  {"cell_type":"code","metadata":{},"execution_count":null,"outputs":[],"source":[
    "# df = pd.read_csv(RAW / 'your_file.csv')\n","# df.head()"
  ]},
  {"cell_type":"markdown","metadata":{},"source":["## 3️⃣ Quick Data Checks"]},
  {"cell_type":"code","metadata":{},"execution_count":null,"outputs":[],"source":[
    "# df.shape, df.dtypes\n","# df.isna().sum().sort_values(ascending=False).head(20)\n","# df.duplicated().sum()"
  ]},
  {"cell_type":"markdown","metadata":{},"source":["## 4️⃣ Minimal Cleaning Actions"]},
  {"cell_type":"code","metadata":{},"execution_count":null,"outputs":[],"source":[
    "# df = df.rename(columns={'OldName':'new_name'})\n","# df = df.dropna(subset=['important_col'])\n","# df['cat_col'] = df['cat_col'].astype('category')"
  ]},
  {"cell_type":"markdown","metadata":{},"source":["## 5️⃣ Save Cleaned Data"]},
  {"cell_type":"code","metadata":{},"execution_count":null,"outputs":[],"source":[
    "# df.to_csv(PROCESSED / 'clean_dataset.csv', index=False)\n","# print('Saved →', PROCESSED / 'clean_dataset.csv')"
  ]}
 ],
 "metadata":{"language_info":{"name":"python"}},
 "nbformat":4,"nbformat_minor":5
}
